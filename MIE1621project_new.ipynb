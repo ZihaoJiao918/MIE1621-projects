{
  "nbformat": 4,
  "nbformat_minor": 0,
  "metadata": {
    "colab": {
      "name": "MIE1621project_new.ipynb",
      "provenance": [],
      "collapsed_sections": []
    },
    "kernelspec": {
      "name": "python3",
      "display_name": "Python 3"
    }
  },
  "cells": [
    {
      "cell_type": "code",
      "metadata": {
        "id": "kV0Q4kjm1bMv",
        "colab_type": "code",
        "colab": {}
      },
      "source": [
        "import numpy as np\n",
        "from numpy.linalg import norm"
      ],
      "execution_count": 0,
      "outputs": []
    },
    {
      "cell_type": "markdown",
      "metadata": {
        "id": "0ZEROXAOjwlw",
        "colab_type": "text"
      },
      "source": [
        "# Updating algorithm"
      ]
    },
    {
      "cell_type": "code",
      "metadata": {
        "id": "Ea6-4fbbl6zS",
        "colab_type": "code",
        "colab": {}
      },
      "source": [
        "def backtracking_line_search(function, gradient, S, starting_point, beta, gamma):\n",
        "    \n",
        "    '''\n",
        "    function arguments descriptions:\n",
        "            S>0\n",
        "            alpha>0,\n",
        "            0<beta<1,\n",
        "            0<gamma<1,\n",
        "    '''\n",
        "    # starting point\n",
        "    x = starting_point  \n",
        "    print(\"The inition point is:\",x)\n",
        "    print(\"\\n\")\n",
        "   \n",
        "    #stopping condition\n",
        "    epsilon = 1e-5\n",
        "    max_iteration=1000\n",
        "    count=0 #iteration count\n",
        "    stopcondition = True\n",
        "    \n",
        "    #this list is used for printing result\n",
        "    res=[]\n",
        "\n",
        "    while stopcondition:\n",
        "      alpha = S    # initialize step size\n",
        "      \n",
        "      # Backtracking to compute step size along direction of negative gradient\n",
        "      while function(*x) - function(*(x - alpha*gradient(*x))) < (-1)*gamma*alpha*np.matmul(gradient(*x).T, -gradient(*x)):\n",
        "          alpha = beta * alpha #update learning rate\n",
        "          \n",
        "          \n",
        "\n",
        "      #gradient descent based method, update point alone search direction\n",
        "      x = x - alpha*gradient(*x)\n",
        "      # Search direction (negative gradient for steepest descent)\n",
        "      p = -gradient(*x)\n",
        "      #calculate the stop condition, and check them later in the following command\n",
        "      stop = norm(gradient(*x),ord=2)/(1+ abs(function(*x)))\n",
        "      count+=1\n",
        "\n",
        "      #print result, store them in a list firstly\n",
        "      result_each_iter = np.array(\"ITERATION  \"+str(count)+\":   alpha = \"+str(alpha)+\"   search direction=\"+str(p)+\"     new_iterate_x=\"+str(x))\n",
        "      res.append(result_each_iter)\n",
        "      #check stop condition, if one of them satisfied, stop the program\n",
        "      if (count >= max_iteration) or (stop <= epsilon):\n",
        "        stopcondition = False\n",
        "    \n",
        "    #print result\n",
        "    if len(res)>15 and count != 1000:#print the first 10 and last 5 results if the iteration more than 15.(converged case)\n",
        "      print(res[0:10])\n",
        "      print(\"....\")\n",
        "      print(\"....\")\n",
        "      print(res[-5:])\n",
        "      print(\"program finished with more than 15 iteration! Total iteration number: \",len(res))\n",
        "    elif len(res)>15 and count == 1000:#print the first 10 and last 5 results if the iteration more than 15.(nonconverged case)\n",
        "      print(res[0:10])\n",
        "      print(\"....\")\n",
        "      print(\"....\")\n",
        "      print(res[-5:])\n",
        "      print(\"!!!!!!!!!!!!Hitting the maximum iteration number(1000), program stopped!!!!!!!!!!!!!!!\")\n",
        "    else: #if the iteration number not greater than 15, print them all\n",
        "      print(res)\n",
        "      print(\"program finished with less than 15 iterations!Total iteration number: \",len(res))\n",
        "    return print(\"Current Result :x_star=\",x, \"gradient: \",gradient(*x))\n"
      ],
      "execution_count": 0,
      "outputs": []
    },
    {
      "cell_type": "markdown",
      "metadata": {
        "id": "7Lxe3jqheWEE",
        "colab_type": "text"
      },
      "source": [
        "#Testing with 5 functions"
      ]
    },
    {
      "cell_type": "code",
      "metadata": {
        "id": "vQOY6MY1eYYH",
        "colab_type": "code",
        "outputId": "7e871fed-1a19-4272-df99-ffcb51c1d463",
        "colab": {
          "base_uri": "https://localhost:8080/",
          "height": 136
        }
      },
      "source": [
        "def function1(x1, x2, x3):\n",
        "    return x1**2 + x2**2 + x3**2\n",
        "\n",
        "\n",
        "def df(x1, x2, x3):\n",
        "    dfdx1 = 2*x1\n",
        "    dfdx2 = 2*x2\n",
        "    dfdx3 = 2*x3\n",
        "    return np.array([dfdx1, dfdx2, dfdx3])\n",
        "\n",
        "\n",
        "x_0 = np.array([1, 1, 1])\n",
        "backtracking_line_search(function1, df, S=2,starting_point=x_0, beta=0.5, gamma=0.25)"
      ],
      "execution_count": 3,
      "outputs": [
        {
          "output_type": "stream",
          "text": [
            "The inition point is: [1 1 1]\n",
            "\n",
            "\n",
            "[array('ITERATION  1:   alpha = 0.5   search direction=[-0. -0. -0.]     new_iterate_x=[0. 0. 0.]',\n",
            "      dtype='<U89')]\n",
            "program finished with less than 15 iterations!Total iteration number:  1\n",
            "Current Result :x_star= [0. 0. 0.] gradient:  [0. 0. 0.]\n"
          ],
          "name": "stdout"
        }
      ]
    },
    {
      "cell_type": "code",
      "metadata": {
        "id": "bnh2FN68BXu6",
        "colab_type": "code",
        "outputId": "6dfbc1d6-26eb-4210-f412-78b2df2de4ce",
        "colab": {
          "base_uri": "https://localhost:8080/",
          "height": 425
        }
      },
      "source": [
        "def function2(x1, x2):\n",
        "    return x1**2 + 2*x2**2 - 2*x1*x2 - 2*x2\n",
        "\n",
        "\n",
        "def df_2(x1, x2):\n",
        "    dfdx1 = 2*x1-2*x2\n",
        "    dfdx2 = 4*x2-2*x1-2\n",
        "    return np.array([dfdx1, dfdx2])\n",
        "\n",
        "x_0 = np.array([0, 0])\n",
        "backtracking_line_search(function2, df_2, S=2,starting_point=x_0, beta=0.5, gamma=0.5)"
      ],
      "execution_count": 4,
      "outputs": [
        {
          "output_type": "stream",
          "text": [
            "The inition point is: [0 0]\n",
            "\n",
            "\n",
            "[array('ITERATION  1:   alpha = 0.25   search direction=[ 1. -0.]     new_iterate_x=[0.  0.5]',\n",
            "      dtype='<U85'), array('ITERATION  2:   alpha = 0.5   search direction=[-0.  1.]     new_iterate_x=[0.5 0.5]',\n",
            "      dtype='<U84'), array('ITERATION  3:   alpha = 0.25   search direction=[ 0.5 -0. ]     new_iterate_x=[0.5  0.75]',\n",
            "      dtype='<U89'), array('ITERATION  4:   alpha = 0.5   search direction=[-0.   0.5]     new_iterate_x=[0.75 0.75]',\n",
            "      dtype='<U88'), array('ITERATION  5:   alpha = 0.25   search direction=[ 0.25 -0.  ]     new_iterate_x=[0.75  0.875]',\n",
            "      dtype='<U93'), array('ITERATION  6:   alpha = 0.5   search direction=[-0.    0.25]     new_iterate_x=[0.875 0.875]',\n",
            "      dtype='<U92'), array('ITERATION  7:   alpha = 0.25   search direction=[ 0.125 -0.   ]     new_iterate_x=[0.875  0.9375]',\n",
            "      dtype='<U97'), array('ITERATION  8:   alpha = 0.5   search direction=[-0.     0.125]     new_iterate_x=[0.9375 0.9375]',\n",
            "      dtype='<U96'), array('ITERATION  9:   alpha = 0.25   search direction=[ 0.0625 -0.    ]     new_iterate_x=[0.9375  0.96875]',\n",
            "      dtype='<U101'), array('ITERATION  10:   alpha = 0.5   search direction=[-0.      0.0625]     new_iterate_x=[0.96875 0.96875]',\n",
            "      dtype='<U101')]\n",
            "....\n",
            "....\n",
            "[array('ITERATION  29:   alpha = 0.25   search direction=[ 6.10351562e-05 -0.00000000e+00]     new_iterate_x=[0.99993896 0.99996948]',\n",
            "      dtype='<U124'), array('ITERATION  30:   alpha = 0.5   search direction=[-0.00000000e+00  6.10351562e-05]     new_iterate_x=[0.99996948 0.99996948]',\n",
            "      dtype='<U123'), array('ITERATION  31:   alpha = 0.25   search direction=[ 3.05175781e-05 -0.00000000e+00]     new_iterate_x=[0.99996948 0.99998474]',\n",
            "      dtype='<U124'), array('ITERATION  32:   alpha = 0.5   search direction=[-0.00000000e+00  3.05175781e-05]     new_iterate_x=[0.99998474 0.99998474]',\n",
            "      dtype='<U123'), array('ITERATION  33:   alpha = 0.25   search direction=[ 1.52587891e-05 -0.00000000e+00]     new_iterate_x=[0.99998474 0.99999237]',\n",
            "      dtype='<U124')]\n",
            "program finished with more than 15 iteration! Total iteration number:  33\n",
            "Current Result :x_star= [0.99998474 0.99999237] gradient:  [-1.52587891e-05  0.00000000e+00]\n"
          ],
          "name": "stdout"
        }
      ]
    },
    {
      "cell_type": "code",
      "metadata": {
        "id": "Nkijv-dhBlXD",
        "colab_type": "code",
        "outputId": "11716bf2-6ade-4692-c0b7-7539e60219be",
        "colab": {
          "base_uri": "https://localhost:8080/",
          "height": 425
        }
      },
      "source": [
        "def function3(x1, x2):\n",
        "    return 100*(x2-x1**2)**2 + (1-x1)**2\n",
        "\n",
        "\n",
        "def df_3(x1, x2):\n",
        "    dfdx1 = 200*(x2-x1**2)*((-2)*x1)-2*(1-x1)\n",
        "    dfdx2 = 200*(x2-x1**2)\n",
        "    return np.array([dfdx1, dfdx2])\n",
        "\n",
        "x_0 = np.array([-1.2, 1.0])\n",
        "backtracking_line_search(function3, df_3, S=2,starting_point=x_0, beta=0.5, gamma=0.25)"
      ],
      "execution_count": 5,
      "outputs": [
        {
          "output_type": "stream",
          "text": [
            "The inition point is: [-1.2  1. ]\n",
            "\n",
            "\n",
            "[array('ITERATION  1:   alpha = 0.0009765625   search direction=[-38.33803031 -21.38400269]     new_iterate_x=[-0.98945313  1.0859375 ]',\n",
            "      dtype='<U127'), array('ITERATION  2:   alpha = 0.0009765625   search direction=[-0.27816415 -2.10925141]     new_iterate_x=[-1.02689261  1.06505468]',\n",
            "      dtype='<U125'), array('ITERATION  3:   alpha = 0.00390625   search direction=[ 4.02544229 -0.01484275]     new_iterate_x=[-1.02797919  1.05681542]',\n",
            "      dtype='<U123'), array('ITERATION  4:   alpha = 0.5   search direction=[ 31.41515509 -15.93546343]     new_iterate_x=[0.98474196 1.04939405]',\n",
            "      dtype='<U116'), array('ITERATION  5:   alpha = 0.0009765625   search direction=[ 1.08718639 -0.55052448]     new_iterate_x=[1.01542082 1.03383207]',\n",
            "      dtype='<U123'), array('ITERATION  6:   alpha = 0.0009765625   search direction=[-0.00949734 -0.01154359]     new_iterate_x=[1.01648253 1.03329445]',\n",
            "      dtype='<U123'), array('ITERATION  7:   alpha = 0.015625   search direction=[ 0.0401058  -0.03580224]     new_iterate_x=[1.01633413 1.03311408]',\n",
            "      dtype='<U119'), array('ITERATION  8:   alpha = 0.0009765625   search direction=[-0.00655043 -0.01288708]     new_iterate_x=[1.0163733  1.03307912]',\n",
            "      dtype='<U123'), array('ITERATION  9:   alpha = 2   search direction=[ 0.29418474 -0.14987436]     new_iterate_x=[1.00327244 1.00730496]',\n",
            "      dtype='<U112'), array('ITERATION  10:   alpha = 0.0009765625   search direction=[ 0.00350532 -0.00529354]     new_iterate_x=[1.00355973 1.0071586 ]',\n",
            "      dtype='<U124')]\n",
            "....\n",
            "....\n",
            "[array('ITERATION  417:   alpha = 0.001953125   search direction=[-1.06919021e-05 -4.69003369e-06]     new_iterate_x=[1.00001004 1.0000201 ]',\n",
            "      dtype='<U132'), array('ITERATION  418:   alpha = 0.001953125   search direction=[ 2.39216911e-06 -1.12111215e-05]     new_iterate_x=[1.00001002 1.00002009]',\n",
            "      dtype='<U132'), array('ITERATION  419:   alpha = 0.001953125   search direction=[-1.01137907e-05 -4.96287633e-06]     new_iterate_x=[1.00001002 1.00002006]',\n",
            "      dtype='<U132'), array('ITERATION  420:   alpha = 0.00390625   search direction=[ 1.38168785e-05 -1.68885851e-05]     new_iterate_x=[1.00000998 1.00002005]',\n",
            "      dtype='<U131'), array('ITERATION  421:   alpha = 0.0009765625   search direction=[-3.60192849e-06 -8.19276131e-06]     new_iterate_x=[1.00000999 1.00002003]',\n",
            "      dtype='<U133')]\n",
            "program finished with more than 15 iteration! Total iteration number:  421\n",
            "Current Result :x_star= [1.00000999 1.00002003] gradient:  [3.60192849e-06 8.19276131e-06]\n"
          ],
          "name": "stdout"
        }
      ]
    },
    {
      "cell_type": "code",
      "metadata": {
        "id": "ntWCS90Qb82M",
        "colab_type": "code",
        "outputId": "51081a23-7c92-4c8d-840e-1e205257b785",
        "colab": {
          "base_uri": "https://localhost:8080/",
          "height": 425
        }
      },
      "source": [
        "def function4(x1, x2):\n",
        "    return (x1+x2)**4 + x2**2\n",
        "\n",
        "\n",
        "def df_4(x1, x2):\n",
        "    dfdx1 = 4*(x1+x2)**3\n",
        "    dfdx2 = 4*(x1+x2)**3+2*x2\n",
        "    return np.array([dfdx1, dfdx2])\n",
        "\n",
        "x_0 = np.array([2, -2])\n",
        "backtracking_line_search(function4, df_4, S=2,starting_point=x_0, beta=0.5, gamma=0.25)"
      ],
      "execution_count": 6,
      "outputs": [
        {
          "output_type": "stream",
          "text": [
            "The inition point is: [ 2 -2]\n",
            "\n",
            "\n",
            "[array('ITERATION  1:   alpha = 0.25   search direction=[-4. -2.]     new_iterate_x=[ 2. -1.]',\n",
            "      dtype='<U85'), array('ITERATION  2:   alpha = 0.0625   search direction=[-0.9765625  1.2734375]     new_iterate_x=[ 1.75  -1.125]',\n",
            "      dtype='<U107'), array('ITERATION  3:   alpha = 1.0   search direction=[-3.13383484 -3.43070984]     new_iterate_x=[0.7734375 0.1484375]',\n",
            "      dtype='<U112'), array('ITERATION  4:   alpha = 0.0625   search direction=[-0.5355852  -0.40362147]     new_iterate_x=[ 0.57757282 -0.06598186]',\n",
            "      dtype='<U119'), array('ITERATION  5:   alpha = 0.25   search direction=[-0.08482187  0.2489526 ]     new_iterate_x=[ 0.44367652 -0.16688723]',\n",
            "      dtype='<U117'), array('ITERATION  6:   alpha = 0.5   search direction=[-0.18484842 -0.10002655]     new_iterate_x=[ 0.40126559 -0.04241093]',\n",
            "      dtype='<U116'), array('ITERATION  7:   alpha = 0.5   search direction=[-0.0405448   0.14430362]     new_iterate_x=[ 0.30884138 -0.09242421]',\n",
            "      dtype='<U116'), array('ITERATION  8:   alpha = 0.5   search direction=[-0.07725123 -0.03670644]     new_iterate_x=[ 0.28856898 -0.0202724 ]',\n",
            "      dtype='<U116'), array('ITERATION  9:   alpha = 0.5   search direction=[-0.03774574  0.03950549]     new_iterate_x=[ 0.24994336 -0.03862562]',\n",
            "      dtype='<U116'), array('ITERATION  10:   alpha = 1.0   search direction=[-0.0386966  -0.04045636]     new_iterate_x=[0.21219763 0.00087988]',\n",
            "      dtype='<U115')]\n",
            "....\n",
            "....\n",
            "[array('ITERATION  613:   alpha = 1.0   search direction=[-1.00764308e-05  1.74020302e-05]     new_iterate_x=[ 1.36203171e-02 -1.37392305e-05]',\n",
            "      dtype='<U134'), array('ITERATION  614:   alpha = 1.0   search direction=[-1.00927146e-05 -1.74183141e-05]     new_iterate_x=[1.36102407e-02 3.66279974e-06]',\n",
            "      dtype='<U132'), array('ITERATION  615:   alpha = 0.5   search direction=[-1.00621524e-05  3.05621939e-08]     new_iterate_x=[ 1.36051943e-02 -5.04635729e-06]',\n",
            "      dtype='<U134'), array('ITERATION  616:   alpha = 2   search direction=[-1.00176864e-05 -4.72206442e-08]     new_iterate_x=[ 1.3585070e-02 -4.9852329e-06]',\n",
            "      dtype='<U130'), array('ITERATION  617:   alpha = 2   search direction=[-9.97320468e-06  1.86143703e-07]     new_iterate_x=[ 1.35650346e-02 -5.07967419e-06]',\n",
            "      dtype='<U132')]\n",
            "program finished with more than 15 iteration! Total iteration number:  617\n",
            "Current Result :x_star= [ 1.35650346e-02 -5.07967419e-06] gradient:  [ 9.97320468e-06 -1.86143703e-07]\n"
          ],
          "name": "stdout"
        }
      ]
    },
    {
      "cell_type": "markdown",
      "metadata": {
        "id": "TCwmnOiIZTc-",
        "colab_type": "text"
      },
      "source": [
        "##function 5 with c = 1; c = 10; c = 100 respectively"
      ]
    },
    {
      "cell_type": "code",
      "metadata": {
        "id": "8l18D-IRYGnE",
        "colab_type": "code",
        "outputId": "6ab63e21-d7b2-460c-9dab-488abe078b48",
        "colab": {
          "base_uri": "https://localhost:8080/",
          "height": 306
        }
      },
      "source": [
        "#c = 1\n",
        "def function5_c1(x1, x2):\n",
        "    return (x1-1)**2 + (x2-1)**2 + 1*(x1**2+x2**2-0.25)**2\n",
        "\n",
        "\n",
        "def df_5_c1(x1, x2):\n",
        "    dfdx1 = 2*(x1-1)+2*1*(x1**2+x2**2-0.25)*(2*x1)\n",
        "    dfdx2 = 2*(x2-1)+2*1*(x1**2+x2**2-0.25)*(2*x2)\n",
        "    return np.array([dfdx1, dfdx2])\n",
        "\n",
        "x_0 = np.array([1, -1])\n",
        "backtracking_line_search(function5_c1, df_5_c1, S=2,starting_point=x_0, beta=0.5, gamma=0.25)"
      ],
      "execution_count": 7,
      "outputs": [
        {
          "output_type": "stream",
          "text": [
            "The inition point is: [ 1 -1]\n",
            "\n",
            "\n",
            "[array('ITERATION  1:   alpha = 0.125   search direction=[1.796875 1.390625]     new_iterate_x=[0.125 0.375]',\n",
            "      dtype='<U100'), array('ITERATION  2:   alpha = 0.25   search direction=[-0.5310626  -1.18535089]     new_iterate_x=[0.57421875 0.72265625]',\n",
            "      dtype='<U115'), array('ITERATION  3:   alpha = 0.125   search direction=[0.29786991 0.07447204]     new_iterate_x=[0.50783592 0.57448739]',\n",
            "      dtype='<U114'), array('ITERATION  4:   alpha = 0.125   search direction=[ 0.0640888  -0.07345603]     new_iterate_x=[0.54506966 0.58379639]',\n",
            "      dtype='<U116'), array('ITERATION  5:   alpha = 0.25   search direction=[ 0.01477202 -0.00058542]     new_iterate_x=[0.56109186 0.56543239]',\n",
            "      dtype='<U115'), array('ITERATION  6:   alpha = 0.25   search direction=[-0.00731374 -0.00909495]     new_iterate_x=[0.56478487 0.56528603]',\n",
            "      dtype='<U115'), array('ITERATION  7:   alpha = 0.125   search direction=[0.00115887 0.00017157]     new_iterate_x=[0.56387065 0.56414916]',\n",
            "      dtype='<U114'), array('ITERATION  8:   alpha = 0.125   search direction=[ 0.00022217 -0.00032777]     new_iterate_x=[0.56401551 0.56417061]',\n",
            "      dtype='<U116'), array('ITERATION  9:   alpha = 0.25   search direction=[9.24648984e-05 2.99954110e-05]     new_iterate_x=[0.56407105 0.56408867]',\n",
            "      dtype='<U121'), array('ITERATION  10:   alpha = 0.125   search direction=[ 1.25203625e-05 -2.22641949e-05]     new_iterate_x=[0.56408261 0.56409242]',\n",
            "      dtype='<U125'), array('ITERATION  11:   alpha = 0.25   search direction=[7.6233984e-06 3.6715178e-06]     new_iterate_x=[0.56408574 0.56408685]',\n",
            "      dtype='<U120')]\n",
            "program finished with less than 15 iterations!Total iteration number:  11\n",
            "Current Result :x_star= [0.56408574 0.56408685] gradient:  [-7.6233984e-06 -3.6715178e-06]\n"
          ],
          "name": "stdout"
        }
      ]
    },
    {
      "cell_type": "code",
      "metadata": {
        "id": "Ro2RrLVwZHy0",
        "colab_type": "code",
        "outputId": "830e34bf-b43b-417d-f8fb-89154e6c4164",
        "colab": {
          "base_uri": "https://localhost:8080/",
          "height": 425
        }
      },
      "source": [
        "#c = 10\n",
        "def function5_c10(x1, x2):\n",
        "    return (x1-1)**2 + (x2-1)**2 + 10*(x1**2+x2**2-0.25)**2\n",
        "\n",
        "\n",
        "def df_5_c10(x1, x2):\n",
        "    dfdx1 = 2*(x1-1)+2*10*(x1**2+x2**2-0.25)*(2*x1)\n",
        "    dfdx2 = 2*(x2-1)+2*10*(x1**2+x2**2-0.25)*(2*x2)\n",
        "    return np.array([dfdx1, dfdx2])\n",
        "\n",
        "x_0 = np.array([1, -1])\n",
        "backtracking_line_search(function5_c10, df_5_c10, S=2,starting_point=x_0, beta=0.5, gamma=0.25)"
      ],
      "execution_count": 8,
      "outputs": [
        {
          "output_type": "stream",
          "text": [
            "The inition point is: [ 1 -1]\n",
            "\n",
            "\n",
            "[array('ITERATION  1:   alpha = 0.0078125   search direction=[-1.32232666  5.09320068]     new_iterate_x=[ 0.453125 -0.421875]',\n",
            "      dtype='<U118'), array('ITERATION  2:   alpha = 0.125   search direction=[2.81771562 2.61016016]     new_iterate_x=[0.28783417 0.21477509]',\n",
            "      dtype='<U114'), array('ITERATION  3:   alpha = 0.0625   search direction=[-0.9331796  -0.38926338]     new_iterate_x=[0.46394139 0.3779101 ]',\n",
            "      dtype='<U117'), array('ITERATION  4:   alpha = 0.03125   search direction=[-0.1356909   0.20341224]     new_iterate_x=[0.43477953 0.36574562]',\n",
            "      dtype='<U118'), array('ITERATION  5:   alpha = 0.25   search direction=[-0.1524509  -0.23697885]     new_iterate_x=[0.40085681 0.41659868]',\n",
            "      dtype='<U115'), array('ITERATION  6:   alpha = 0.03125   search direction=[ 0.03017671 -0.03497323]     new_iterate_x=[0.39609272 0.40919309]',\n",
            "      dtype='<U118'), array('ITERATION  7:   alpha = 0.25   search direction=[0.00954105 0.0252577 ]     new_iterate_x=[0.40363689 0.40044978]',\n",
            "      dtype='<U113'), array('ITERATION  8:   alpha = 0.03125   search direction=[-0.00604371  0.00734515]     new_iterate_x=[0.40393505 0.40123908]',\n",
            "      dtype='<U118'), array('ITERATION  9:   alpha = 0.25   search direction=[-0.00270279 -0.00594378]     new_iterate_x=[0.40242412 0.40307537]',\n",
            "      dtype='<U115'), array('ITERATION  10:   alpha = 0.03125   search direction=[ 0.00122071 -0.00151146]     new_iterate_x=[0.40233966 0.40288963]',\n",
            "      dtype='<U119')]\n",
            "....\n",
            "....\n",
            "[array('ITERATION  12:   alpha = 0.03125   search direction=[-0.0002455   0.00031298]     new_iterate_x=[0.40266514 0.40255271]',\n",
            "      dtype='<U119'), array('ITERATION  13:   alpha = 0.25   search direction=[-0.00015928 -0.00029438]     new_iterate_x=[0.40260376 0.40263096]',\n",
            "      dtype='<U116'), array('ITERATION  14:   alpha = 0.03125   search direction=[ 4.92866545e-05 -6.48281013e-05]     new_iterate_x=[0.40259879 0.40262176]',\n",
            "      dtype='<U127'), array('ITERATION  15:   alpha = 0.25   search direction=[3.84653374e-05 6.60690713e-05]     new_iterate_x=[0.40261111 0.40260555]',\n",
            "      dtype='<U122'), array('ITERATION  16:   alpha = 0.03125   search direction=[-9.86707308e-06  1.34521259e-05]     new_iterate_x=[0.40261231 0.40260761]',\n",
            "      dtype='<U127')]\n",
            "program finished with more than 15 iteration! Total iteration number:  16\n",
            "Current Result :x_star= [0.40261231 0.40260761] gradient:  [ 9.86707308e-06 -1.34521259e-05]\n"
          ],
          "name": "stdout"
        }
      ]
    },
    {
      "cell_type": "code",
      "metadata": {
        "id": "sbWLluVTZLF-",
        "colab_type": "code",
        "outputId": "110b81cf-fdb9-4137-af89-bdbb1cdbf059",
        "colab": {
          "base_uri": "https://localhost:8080/",
          "height": 425
        }
      },
      "source": [
        "#c = 100\n",
        "def function5_c100(x1, x2):\n",
        "    return (x1-1)**2 + (x2-1)**2 + 100*(x1**2+x2**2-0.25)**2\n",
        "\n",
        "\n",
        "def df_5_c100(x1, x2):\n",
        "    dfdx1 = 2*(x1-1)+2*100*(x1**2+x2**2-0.25)*(2*x1)\n",
        "    dfdx2 = 2*(x2-1)+2*100*(x1**2+x2**2-0.25)*(2*x2)\n",
        "    return np.array([dfdx1, dfdx2])\n",
        "\n",
        "x_0 = np.array([1, -1])\n",
        "backtracking_line_search(function5_c100, df_5_c100, S=2,starting_point=x_0, beta=0.5, gamma=0.25)"
      ],
      "execution_count": 9,
      "outputs": [
        {
          "output_type": "stream",
          "text": [
            "The inition point is: [ 1 -1]\n",
            "\n",
            "\n",
            "[array('ITERATION  1:   alpha = 0.0009765625   search direction=[ 7.97765255 -3.90385437]     new_iterate_x=[ 0.31640625 -0.3125    ]',\n",
            "      dtype='<U125'), array('ITERATION  2:   alpha = 0.0078125   search direction=[-0.43689437  4.20697682]     new_iterate_x=[ 0.37873166 -0.34299886]',\n",
            "      dtype='<U122'), array('ITERATION  3:   alpha = 0.0078125   search direction=[3.1941601  1.01324565]     new_iterate_x=[ 0.37531842 -0.31013186]',\n",
            "      dtype='<U120'), array('ITERATION  4:   alpha = 0.015625   search direction=[-1.81523636  4.64052656]     new_iterate_x=[ 0.42522717 -0.29429989]',\n",
            "      dtype='<U121'), array('ITERATION  5:   alpha = 0.0078125   search direction=[3.55438672 1.02418882]     new_iterate_x=[ 0.41104564 -0.25804578]',\n",
            "      dtype='<U120'), array('ITERATION  6:   alpha = 0.015625   search direction=[-3.83870021  5.02886242]     new_iterate_x=[ 0.46658293 -0.24204283]',\n",
            "      dtype='<U121'), array('ITERATION  7:   alpha = 0.0078125   search direction=[4.31864987 0.92321363]     new_iterate_x=[ 0.43659309 -0.20275484]',\n",
            "      dtype='<U120'), array('ITERATION  8:   alpha = 0.0078125   search direction=[-0.71842115  3.13019215]     new_iterate_x=[ 0.47033254 -0.19554223]',\n",
            "      dtype='<U122'), array('ITERATION  9:   alpha = 0.015625   search direction=[4.33581607 1.25397017]     new_iterate_x=[ 0.45910721 -0.14663298]',\n",
            "      dtype='<U119'), array('ITERATION  10:   alpha = 0.0078125   search direction=[-1.3038045   2.91703478]     new_iterate_x=[ 0.49298077 -0.13683634]',\n",
            "      dtype='<U123')]\n",
            "....\n",
            "....\n",
            "[array('ITERATION  222:   alpha = 0.0078125   search direction=[-2.06811975e-05  1.70304807e-06]     new_iterate_x=[0.35979159 0.35978756]',\n",
            "      dtype='<U130'), array('ITERATION  223:   alpha = 0.015625   search direction=[1.18241071e-05 3.22638163e-05]     new_iterate_x=[0.35979127 0.35978759]',\n",
            "      dtype='<U127'), array('ITERATION  224:   alpha = 0.0078125   search direction=[-2.43589575e-05 -4.80654917e-06]     new_iterate_x=[0.35979136 0.35978784]',\n",
            "      dtype='<U130'), array('ITERATION  225:   alpha = 0.0078125   search direction=[2.95544202e-07 1.89986006e-05]     new_iterate_x=[0.35979117 0.3597878 ]',\n",
            "      dtype='<U128'), array('ITERATION  226:   alpha = 0.0078125   search direction=[-1.53272812e-05  2.56367917e-06]     new_iterate_x=[0.35979117 0.35978795]',\n",
            "      dtype='<U130')]\n",
            "program finished with more than 15 iteration! Total iteration number:  226\n",
            "Current Result :x_star= [0.35979117 0.35978795] gradient:  [ 1.53272812e-05 -2.56367917e-06]\n"
          ],
          "name": "stdout"
        }
      ]
    },
    {
      "cell_type": "markdown",
      "metadata": {
        "id": "u1tZ4FF4avDl",
        "colab_type": "text"
      },
      "source": [
        "with C getting bigger and bigger, the programm will take more iterations to achieve the optimal point."
      ]
    }
  ]
}