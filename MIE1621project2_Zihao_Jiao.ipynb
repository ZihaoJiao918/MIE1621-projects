{
  "nbformat": 4,
  "nbformat_minor": 0,
  "metadata": {
    "colab": {
      "name": "MIE1621project2_Zihao_Jiao.ipynb",
      "provenance": [],
      "collapsed_sections": []
    },
    "kernelspec": {
      "name": "python3",
      "display_name": "Python 3"
    }
  },
  "cells": [
    {
      "cell_type": "markdown",
      "metadata": {
        "id": "xBtXA8W1a_AB",
        "colab_type": "text"
      },
      "source": [
        "# Zihao Jiao(1002213428)"
      ]
    },
    {
      "cell_type": "code",
      "metadata": {
        "id": "kV0Q4kjm1bMv",
        "colab_type": "code",
        "colab": {}
      },
      "source": [
        "import numpy as np\n",
        "from numpy.linalg import norm"
      ],
      "execution_count": 0,
      "outputs": []
    },
    {
      "cell_type": "markdown",
      "metadata": {
        "id": "0ZEROXAOjwlw",
        "colab_type": "text"
      },
      "source": [
        "# Newton's Method"
      ]
    },
    {
      "cell_type": "code",
      "metadata": {
        "id": "Ea6-4fbbl6zS",
        "colab_type": "code",
        "colab": {}
      },
      "source": [
        "def Newton_backtracking(function, gradient, hessian, S, starting_point, beta, gamma):\n",
        "    \n",
        "    '''\n",
        "    function arguments descriptions:\n",
        "            S>0\n",
        "            alpha>0,\n",
        "            0<beta<1,\n",
        "            0<gamma<1,\n",
        "    '''\n",
        "    # starting point\n",
        "    x = starting_point  \n",
        "    print(\"The inition point is:\",x)\n",
        "    print(\"\\n\")\n",
        "   \n",
        "    #stopping condition\n",
        "    epsilon = 1e-5\n",
        "    max_iteration=1000\n",
        "    count=0 #iteration count\n",
        "    stopcondition = True\n",
        "    \n",
        "    #this list is used for printing result\n",
        "    res=[]\n",
        "\n",
        "    while stopcondition:\n",
        "      alpha = S    # initialize step size\n",
        "      \n",
        "      # Backtracking to compute step size along direction of negative gradient\n",
        "      while function(*x) - function(*(x - alpha*gradient(*x))) < (-1)*gamma*alpha*np.matmul(gradient(*x).T, -gradient(*x)):\n",
        "          alpha = beta * alpha #update learning rate\n",
        "          \n",
        "          \n",
        "      # Gradient and inverse hessian\n",
        "      gradient_negative = -gradient(*x)\n",
        "      inv_hessian = np.linalg.inv(hessian(*x))\n",
        "      # Search direction (inverse hessian times negative gradient for Newton's)\n",
        "      p = np.dot(inv_hessian, gradient_negative)\n",
        "      \n",
        "      #gradient descent based method, update point alone search direction\n",
        "      x = x + alpha*p\n",
        " \n",
        "      #calculate the stop condition, and check them later in the following command\n",
        "      stop = norm(gradient(*x),ord=2)/(1+ abs(function(*x)))\n",
        "      count+=1\n",
        "\n",
        "      #print result, store them in a list firstly\n",
        "      result_each_iter = np.array(\"ITERATION  \"+str(count)+\":   alpha = \"+str(alpha)+\"   search direction=\"+str(p)+\"     new_iterate_x=\"+str(x)+\"gradient:\"+str(gradient(*x)))\n",
        "      res.append(result_each_iter)\n",
        "      #check stop condition, if one of them satisfied, stop the program\n",
        "      if (count >= max_iteration) or (stop <= epsilon):\n",
        "        stopcondition = False\n",
        "    \n",
        "    #print result\n",
        "    if len(res)>15 and count != 1000:#print the first 10 and last 5 results if the iteration more than 15.(converged case)\n",
        "      print(res[0:10])\n",
        "      print(\"....\")\n",
        "      print(\"....\")\n",
        "      print(res[-5:])\n",
        "      print(\"program finished with more than 15 iteration! Total iteration number: \",len(res))\n",
        "    elif len(res)>15 and count == 1000:#print the first 10 and last 5 results if the iteration more than 15.(nonconverged case)\n",
        "      print(res[0:10])\n",
        "      print(\"....\")\n",
        "      print(\"....\")\n",
        "      print(res[-5:])\n",
        "      print(\"!!!!!!!!!!!!Hitting the maximum iteration number(1000), program stopped!!!!!!!!!!!!!!!\")\n",
        "    else: #if the iteration number not greater than 15, print them all\n",
        "      print(res)\n",
        "      print(\"program finished with less than 15 iterations!Total iteration number: \",len(res))\n",
        "    return print(\"Current Result :x_star=\",x, \"gradient: \",gradient(*x))\n"
      ],
      "execution_count": 0,
      "outputs": []
    },
    {
      "cell_type": "markdown",
      "metadata": {
        "id": "7Lxe3jqheWEE",
        "colab_type": "text"
      },
      "source": [
        "#Testing with 5 functions"
      ]
    },
    {
      "cell_type": "code",
      "metadata": {
        "id": "vQOY6MY1eYYH",
        "colab_type": "code",
        "outputId": "140784c3-1f0d-41a7-e259-af2f98e345b3",
        "colab": {
          "base_uri": "https://localhost:8080/",
          "height": 445
        }
      },
      "source": [
        "def function1(x1, x2, x3):\n",
        "    return x1**2 + x2**2 + x3**2\n",
        "\n",
        "\n",
        "def df(x1, x2, x3):\n",
        "    dfdx1 = 2*x1\n",
        "    dfdx2 = 2*x2\n",
        "    dfdx3 = 2*x3\n",
        "    return np.array([dfdx1, dfdx2, dfdx3])\n",
        "\n",
        "def ddf(x1, x2, x3):\n",
        "    \"\"\"Return hessian matrix.\"\"\"\n",
        "    x1x1 = 2\n",
        "    x1x2 = 0\n",
        "    x1x3 = 0\n",
        "    x2x1 = 0\n",
        "    x2x2 = 2\n",
        "    x2x3 = 0\n",
        "    x3x1 = 0 \n",
        "    x3x2 = 0\n",
        "    x3x3 = 2\n",
        "\n",
        "    return np.array([[x1x1, x1x2, x1x3],\n",
        "                     [x2x1, x2x2, x2x3],\n",
        "                     [x3x1, x3x2, x3x3]])\n",
        "\n",
        "x_0 = np.array([1, 1, 1])\n",
        "Newton_backtracking(function1, df, ddf, S=2,starting_point=x_0, beta=0.5, gamma=0.25)"
      ],
      "execution_count": 3,
      "outputs": [
        {
          "output_type": "stream",
          "text": [
            "The inition point is: [1 1 1]\n",
            "\n",
            "\n",
            "[array('ITERATION  1:   alpha = 0.5   search direction=[-1. -1. -1.]     new_iterate_x=[0.5 0.5 0.5]gradient:[1. 1. 1.]',\n",
            "      dtype='<U111'), array('ITERATION  2:   alpha = 0.5   search direction=[-0.5 -0.5 -0.5]     new_iterate_x=[0.25 0.25 0.25]gradient:[0.5 0.5 0.5]',\n",
            "      dtype='<U120'), array('ITERATION  3:   alpha = 0.5   search direction=[-0.25 -0.25 -0.25]     new_iterate_x=[0.125 0.125 0.125]gradient:[0.25 0.25 0.25]',\n",
            "      dtype='<U129'), array('ITERATION  4:   alpha = 0.5   search direction=[-0.125 -0.125 -0.125]     new_iterate_x=[0.0625 0.0625 0.0625]gradient:[0.125 0.125 0.125]',\n",
            "      dtype='<U138'), array('ITERATION  5:   alpha = 0.5   search direction=[-0.0625 -0.0625 -0.0625]     new_iterate_x=[0.03125 0.03125 0.03125]gradient:[0.0625 0.0625 0.0625]',\n",
            "      dtype='<U147'), array('ITERATION  6:   alpha = 0.5   search direction=[-0.03125 -0.03125 -0.03125]     new_iterate_x=[0.015625 0.015625 0.015625]gradient:[0.03125 0.03125 0.03125]',\n",
            "      dtype='<U156'), array('ITERATION  7:   alpha = 0.5   search direction=[-0.015625 -0.015625 -0.015625]     new_iterate_x=[0.0078125 0.0078125 0.0078125]gradient:[0.015625 0.015625 0.015625]',\n",
            "      dtype='<U165'), array('ITERATION  8:   alpha = 0.5   search direction=[-0.0078125 -0.0078125 -0.0078125]     new_iterate_x=[0.00390625 0.00390625 0.00390625]gradient:[0.0078125 0.0078125 0.0078125]',\n",
            "      dtype='<U174'), array('ITERATION  9:   alpha = 0.5   search direction=[-0.00390625 -0.00390625 -0.00390625]     new_iterate_x=[0.00195312 0.00195312 0.00195312]gradient:[0.00390625 0.00390625 0.00390625]',\n",
            "      dtype='<U180'), array('ITERATION  10:   alpha = 0.5   search direction=[-0.00195312 -0.00195312 -0.00195312]     new_iterate_x=[0.00097656 0.00097656 0.00097656]gradient:[0.00195312 0.00195312 0.00195312]',\n",
            "      dtype='<U181')]\n",
            "....\n",
            "....\n",
            "[array('ITERATION  15:   alpha = 0.5   search direction=[-6.10351562e-05 -6.10351562e-05 -6.10351562e-05]     new_iterate_x=[3.05175781e-05 3.05175781e-05 3.05175781e-05]gradient:[6.10351562e-05 6.10351562e-05 6.10351562e-05]',\n",
            "      dtype='<U217'), array('ITERATION  16:   alpha = 0.5   search direction=[-3.05175781e-05 -3.05175781e-05 -3.05175781e-05]     new_iterate_x=[1.52587891e-05 1.52587891e-05 1.52587891e-05]gradient:[3.05175781e-05 3.05175781e-05 3.05175781e-05]',\n",
            "      dtype='<U217'), array('ITERATION  17:   alpha = 0.5   search direction=[-1.52587891e-05 -1.52587891e-05 -1.52587891e-05]     new_iterate_x=[7.62939453e-06 7.62939453e-06 7.62939453e-06]gradient:[1.52587891e-05 1.52587891e-05 1.52587891e-05]',\n",
            "      dtype='<U217'), array('ITERATION  18:   alpha = 0.5   search direction=[-7.62939453e-06 -7.62939453e-06 -7.62939453e-06]     new_iterate_x=[3.81469727e-06 3.81469727e-06 3.81469727e-06]gradient:[7.62939453e-06 7.62939453e-06 7.62939453e-06]',\n",
            "      dtype='<U217'), array('ITERATION  19:   alpha = 0.5   search direction=[-3.81469727e-06 -3.81469727e-06 -3.81469727e-06]     new_iterate_x=[1.90734863e-06 1.90734863e-06 1.90734863e-06]gradient:[3.81469727e-06 3.81469727e-06 3.81469727e-06]',\n",
            "      dtype='<U217')]\n",
            "program finished with more than 15 iteration! Total iteration number:  19\n",
            "Current Result :x_star= [1.90734863e-06 1.90734863e-06 1.90734863e-06] gradient:  [3.81469727e-06 3.81469727e-06 3.81469727e-06]\n"
          ],
          "name": "stdout"
        }
      ]
    },
    {
      "cell_type": "code",
      "metadata": {
        "id": "bnh2FN68BXu6",
        "colab_type": "code",
        "outputId": "9cf3c994-8246-4415-d9a4-64a3528a3ac9",
        "colab": {
          "base_uri": "https://localhost:8080/",
          "height": 425
        }
      },
      "source": [
        "def function2(x1, x2):\n",
        "    return x1**2 + 2*x2**2 - 2*x1*x2 - 2*x2\n",
        "\n",
        "\n",
        "def df_2(x1, x2):\n",
        "    dfdx1 = 2*x1-2*x2\n",
        "    dfdx2 = 4*x2-2*x1-2\n",
        "    return np.array([dfdx1, dfdx2])\n",
        "\n",
        "def ddf_2(x1, x2):\n",
        "    \"\"\"Return hessian matrix.\"\"\"\n",
        "    x1x1 = 2\n",
        "    x1x2 = -2\n",
        "\n",
        "    x2x1 = -2\n",
        "    x2x2 = 4\n",
        "    return np.array([[x1x1, x1x2],\n",
        "                     [x2x1, x2x2]])\n",
        "\n",
        "x_0 = np.array([0, 0])\n",
        "Newton_backtracking(function2, df_2, ddf_2, S=2,starting_point=x_0, beta=0.5, gamma=0.5)"
      ],
      "execution_count": 4,
      "outputs": [
        {
          "output_type": "stream",
          "text": [
            "The inition point is: [0 0]\n",
            "\n",
            "\n",
            "[array('ITERATION  1:   alpha = 0.25   search direction=[1. 1.]     new_iterate_x=[0.25 0.25]gradient:[ 0.  -1.5]',\n",
            "      dtype='<U105'), array('ITERATION  2:   alpha = 0.25   search direction=[0.75 0.75]     new_iterate_x=[0.4375 0.4375]gradient:[ 0.    -1.125]',\n",
            "      dtype='<U117'), array('ITERATION  3:   alpha = 0.25   search direction=[0.5625 0.5625]     new_iterate_x=[0.578125 0.578125]gradient:[ 0.      -0.84375]',\n",
            "      dtype='<U129'), array('ITERATION  4:   alpha = 0.25   search direction=[0.421875 0.421875]     new_iterate_x=[0.68359375 0.68359375]gradient:[ 0.        -0.6328125]',\n",
            "      dtype='<U141'), array('ITERATION  5:   alpha = 0.25   search direction=[0.31640625 0.31640625]     new_iterate_x=[0.76269531 0.76269531]gradient:[ 0.         -0.47460938]',\n",
            "      dtype='<U147'), array('ITERATION  6:   alpha = 0.25   search direction=[0.23730469 0.23730469]     new_iterate_x=[0.82202148 0.82202148]gradient:[ 0.         -0.35595703]',\n",
            "      dtype='<U147'), array('ITERATION  7:   alpha = 0.25   search direction=[0.17797852 0.17797852]     new_iterate_x=[0.86651611 0.86651611]gradient:[ 0.         -0.26696777]',\n",
            "      dtype='<U147'), array('ITERATION  8:   alpha = 0.25   search direction=[0.13348389 0.13348389]     new_iterate_x=[0.89988708 0.89988708]gradient:[ 0.         -0.20022583]',\n",
            "      dtype='<U147'), array('ITERATION  9:   alpha = 0.25   search direction=[0.10011292 0.10011292]     new_iterate_x=[0.92491531 0.92491531]gradient:[ 0.         -0.15016937]',\n",
            "      dtype='<U147'), array('ITERATION  10:   alpha = 0.25   search direction=[0.07508469 0.07508469]     new_iterate_x=[0.94368649 0.94368649]gradient:[ 0.         -0.11262703]',\n",
            "      dtype='<U148')]\n",
            "....\n",
            "....\n",
            "[array('ITERATION  46:   alpha = 0.25   search direction=[2.40967625e-05 2.40967625e-05]     new_iterate_x=[0.99998193 0.99998193]gradient:[ 0.00000000e+00 -3.61451437e-05]',\n",
            "      dtype='<U164'), array('ITERATION  47:   alpha = 0.125   search direction=[1.80725719e-05 1.80725719e-05]     new_iterate_x=[0.99998419 0.99998419]gradient:[ 0.00000000e+00 -3.16270008e-05]',\n",
            "      dtype='<U165'), array('ITERATION  48:   alpha = 0.125   search direction=[1.58135004e-05 1.58135004e-05]     new_iterate_x=[0.99998616 0.99998616]gradient:[ 0.00000000e+00 -2.76736257e-05]',\n",
            "      dtype='<U165'), array('ITERATION  49:   alpha = 0.125   search direction=[1.38368128e-05 1.38368128e-05]     new_iterate_x=[0.99998789 0.99998789]gradient:[ 0.00000000e+00 -2.42144225e-05]',\n",
            "      dtype='<U165'), array('ITERATION  50:   alpha = 0.25   search direction=[1.21072112e-05 1.21072112e-05]     new_iterate_x=[0.99999092 0.99999092]gradient:[ 0.00000000e+00 -1.81608168e-05]',\n",
            "      dtype='<U164')]\n",
            "program finished with more than 15 iteration! Total iteration number:  50\n",
            "Current Result :x_star= [0.99999092 0.99999092] gradient:  [ 0.00000000e+00 -1.81608168e-05]\n"
          ],
          "name": "stdout"
        }
      ]
    },
    {
      "cell_type": "code",
      "metadata": {
        "id": "Nkijv-dhBlXD",
        "colab_type": "code",
        "outputId": "b9f455c6-182f-435a-ebc2-1ae96e5ebf4b",
        "colab": {
          "base_uri": "https://localhost:8080/",
          "height": 425
        }
      },
      "source": [
        "def function3(x1, x2):\n",
        "    return 100*(x2-x1**2)**2 + (1-x1)**2\n",
        "\n",
        "\n",
        "def df_3(x1, x2):\n",
        "    dfdx1 = 200*(x2-x1**2)*((-2)*x1)-2*(1-x1)\n",
        "    dfdx2 = 200*(x2-x1**2)\n",
        "    return np.array([dfdx1, dfdx2])\n",
        "\n",
        "def ddf_3(x1, x2):\n",
        "    \"\"\"Return hessian matrix.\"\"\"\n",
        "\n",
        "    x1x1 = -400*(x2 - x1**2) + 800*(x1**2) + 2\n",
        "    x1x2 = -400*x1\n",
        "    x2x1 = -400*x1\n",
        "    x2x2 = 200\n",
        "    return np.array([[x1x1, x1x2],\n",
        "                     [x2x1, x2x2]])\n",
        "\n",
        "x_0 = np.array([-1.2, 1.0])\n",
        "Newton_backtracking(function3, df_3, ddf_3, S=2,starting_point=x_0, beta=0.95, gamma=0.0001)"
      ],
      "execution_count": 5,
      "outputs": [
        {
          "output_type": "stream",
          "text": [
            "The inition point is: [-1.2  1. ]\n",
            "\n",
            "\n",
            "[array('ITERATION  1:   alpha = 0.012464272042808415   search direction=[0.0247191  0.38067416]     new_iterate_x=[-1.19969189  1.00474483]gradient:[-212.9134244   -86.90316305]',\n",
            "      dtype='<U169'), array('ITERATION  2:   alpha = 0.013120286360850964   search direction=[0.02502404 0.37447355]     new_iterate_x=[-1.19936357  1.00965803]gradient:[-210.12073972  -85.76299022]',\n",
            "      dtype='<U169'), array('ITERATION  3:   alpha = 0.013120286360850964   search direction=[0.0253491  0.36800938]     new_iterate_x=[-1.19903098  1.01448641]gradient:[-207.36469697  -84.63777735]',\n",
            "      dtype='<U169'), array('ITERATION  4:   alpha = 0.013120286360850964   search direction=[0.02567828 0.36161078]     new_iterate_x=[-1.19869408  1.01923085]gradient:[-204.64481544  -83.52732818]',\n",
            "      dtype='<U169'), array('ITERATION  5:   alpha = 0.013120286360850964   search direction=[0.02601164 0.35527665]     new_iterate_x=[-1.1983528   1.02389218]gradient:[-201.96062071  -82.43144901]',\n",
            "      dtype='<U169'), array('ITERATION  6:   alpha = 0.013810827748264172   search direction=[0.02634921 0.34900595]     new_iterate_x=[-1.19798889  1.02871224]gradient:[-199.17226939  -81.29302895]',\n",
            "      dtype='<U169'), array('ITERATION  7:   alpha = 0.013810827748264172   search direction=[0.0267093  0.34247026]     new_iterate_x=[-1.19762002  1.03344204]gradient:[-196.42242897  -80.17033214]',\n",
            "      dtype='<U169'), array('ITERATION  8:   alpha = 0.013810827748264172   search direction=[0.02707418 0.33600251]     new_iterate_x=[-1.1972461   1.03808251]gradient:[-193.71056761  -79.06314146]',\n",
            "      dtype='<U169'), array('ITERATION  9:   alpha = 0.014537713419225445   search direction=[0.02744392 0.32960147]     new_iterate_x=[-1.19684713  1.04287417]gradient:[-190.89545225  -77.913776  ]',\n",
            "      dtype='<U169'), array('ITERATION  10:   alpha = 0.014537713419225445   search direction=[0.02783858 0.32293184]     new_iterate_x=[-1.19644242  1.04756886]gradient:[-188.12126407  -76.78112061]',\n",
            "      dtype='<U170')]\n",
            "....\n",
            "....\n",
            "[array('ITERATION  996:   alpha = 0.0038309796135501755   search direction=[0.01797053 0.03539444]     new_iterate_x=[0.98168867 0.9635991 ]gradient:[ 0.0079633  -0.02270881]',\n",
            "      dtype='<U166'), array('ITERATION  997:   alpha = 0.0038309796135501755   search direction=[0.01790474 0.0352673 ]     new_iterate_x=[0.98175726 0.96373421]gradient:[ 0.00793463 -0.02262275]',\n",
            "      dtype='<U166'), array('ITERATION  998:   alpha = 0.0038309796135501755   search direction=[0.01783917 0.03514058]     new_iterate_x=[0.9818256  0.96386883]gradient:[ 0.00790605 -0.02253702]',\n",
            "      dtype='<U166'), array('ITERATION  999:   alpha = 0.0038309796135501755   search direction=[0.01777383 0.03501428]     new_iterate_x=[0.98189369 0.96400297]gradient:[ 0.00787758 -0.02245161]',\n",
            "      dtype='<U166'), array('ITERATION  1000:   alpha = 0.0038309796135501755   search direction=[0.01770872 0.03488841]     new_iterate_x=[0.98196154 0.96413663]gradient:[ 0.00784919 -0.02236652]',\n",
            "      dtype='<U167')]\n",
            "!!!!!!!!!!!!Hitting the maximum iteration number(1000), program stopped!!!!!!!!!!!!!!!\n",
            "Current Result :x_star= [0.98196154 0.96413663] gradient:  [ 0.00784919 -0.02236652]\n"
          ],
          "name": "stdout"
        }
      ]
    },
    {
      "cell_type": "code",
      "metadata": {
        "id": "ntWCS90Qb82M",
        "colab_type": "code",
        "outputId": "080c1869-7061-443b-ea17-c5dc407ad152",
        "colab": {
          "base_uri": "https://localhost:8080/",
          "height": 425
        }
      },
      "source": [
        "def function4(x1, x2):\n",
        "    return (x1+x2)**4 + x2**2\n",
        "\n",
        "\n",
        "def df_4(x1, x2):\n",
        "    dfdx1 = 4*(x1+x2)**3\n",
        "    dfdx2 = 4*(x1+x2)**3+2*x2\n",
        "    return np.array([dfdx1, dfdx2])\n",
        "\n",
        "def ddf_4(x1, x2):\n",
        "    \"\"\"Return hessian matrix.\"\"\"\n",
        "    x1x1 = 12*(x1+x2)**2+0.00001\n",
        "    x1x2 = 12*(x1+x2)**2\n",
        "\n",
        "    x2x1 = 12*(x1+x2)**2\n",
        "    x2x2 = 12*(x1+x2)**2 + 2+0.00001\n",
        "    return np.array([[x1x1, x1x2],\n",
        "                     [x2x1, x2x2]])\n",
        "\n",
        "x_0 = np.array([2, -2])\n",
        "Newton_backtracking(function4, df_4, ddf_4, S=2,starting_point=x_0, beta=0.5, gamma=0.25)"
      ],
      "execution_count": 6,
      "outputs": [
        {
          "output_type": "stream",
          "text": [
            "The inition point is: [ 2 -2]\n",
            "\n",
            "\n",
            "[array('ITERATION  1:   alpha = 0.25   search direction=[0.      1.99999]     new_iterate_x=[ 2.        -1.5000025]gradient:[ 0.4999925 -2.5000125]',\n",
            "      dtype='<U139'), array('ITERATION  2:   alpha = 0.25   search direction=[-1.66664694  1.49998667]     new_iterate_x=[ 1.58333826 -1.12500583]gradient:[ 0.38512504 -1.86488663]',\n",
            "      dtype='<U151'), array('ITERATION  3:   alpha = 0.25   search direction=[-1.27776623  1.12499382]     new_iterate_x=[ 1.26389671 -0.84375738]gradient:[ 0.29664703 -1.39086773]',\n",
            "      dtype='<U151'), array('ITERATION  4:   alpha = 0.25   search direction=[-0.98379004  0.84374824]     new_iterate_x=[ 1.0179492  -0.63282032]gradient:[ 0.22849581 -1.03714482]',\n",
            "      dtype='<U151'), array('ITERATION  5:   alpha = 0.25   search direction=[-0.76118536  0.63281335]     new_iterate_x=[ 0.82765286 -0.47461698]gradient:[ 0.17600156 -0.7732324 ]',\n",
            "      dtype='<U151'), array('ITERATION  6:   alpha = 0.25   search direction=[-0.59228631  0.47461165]     new_iterate_x=[ 0.67958128 -0.35596407]gradient:[ 0.13556726 -0.57636088]',\n",
            "      dtype='<U151'), array('ITERATION  7:   alpha = 0.5   search direction=[-0.46382868  0.35595997]     new_iterate_x=[ 0.44766694 -0.17798408]gradient:[ 0.07845489 -0.27751328]',\n",
            "      dtype='<U150'), array('ITERATION  8:   alpha = 0.5   search direction=[-0.26787307  0.17798185]     new_iterate_x=[ 0.3137304  -0.08899316]gradient:[ 0.04540306 -0.13258325]',\n",
            "      dtype='<U150'), array('ITERATION  9:   alpha = 0.5   search direction=[-0.1639016   0.08899189]     new_iterate_x=[ 0.2317796  -0.04449721]gradient:[ 0.02627549 -0.06271893]',\n",
            "      dtype='<U150'), array('ITERATION  10:   alpha = 0.5   search direction=[-0.10692138  0.04449645]     new_iterate_x=[ 0.17831891 -0.02224898]gradient:[ 0.01520609 -0.02929187]',\n",
            "      dtype='<U151')]\n",
            "....\n",
            "....\n",
            "[array('ITERATION  13:   alpha = 1.0   search direction=[-2.88999957e-02  1.83495644e-07]     new_iterate_x=[ 5.78093786e-02 -1.44500896e-07]gradient:[0.00077277 0.00077248]',\n",
            "      dtype='<U165'), array('ITERATION  14:   alpha = 1.0   search direction=[-1.92649890e-02  4.81757102e-08]     new_iterate_x=[ 3.85443896e-02 -9.63251859e-08]gradient:[0.00022906 0.00022886]',\n",
            "      dtype='<U165'), array('ITERATION  15:   alpha = 1.0   search direction=[-1.28409272e-02  3.21203893e-08]     new_iterate_x=[ 2.57034624e-02 -6.42047966e-08]gradient:[6.79253096e-05 6.77969000e-05]',\n",
            "      dtype='<U173'), array('ITERATION  16:   alpha = 1.0   search direction=[-8.55702738e-03  2.14195526e-08]     new_iterate_x=[ 1.71464351e-02 -4.27852440e-08]gradient:[2.01640729e-05 2.00785024e-05]',\n",
            "      dtype='<U173'), array('ITERATION  17:   alpha = 1.0   search direction=[-5.69932377e-03  1.42885537e-08]     new_iterate_x=[ 1.14471113e-02 -2.84966903e-08]gradient:[5.99990625e-06 5.94291287e-06]',\n",
            "      dtype='<U173')]\n",
            "program finished with more than 15 iteration! Total iteration number:  17\n",
            "Current Result :x_star= [ 1.14471113e-02 -2.84966903e-08] gradient:  [5.99990625e-06 5.94291287e-06]\n"
          ],
          "name": "stdout"
        }
      ]
    },
    {
      "cell_type": "markdown",
      "metadata": {
        "id": "TCwmnOiIZTc-",
        "colab_type": "text"
      },
      "source": [
        "##function 5 with c = 1; c = 10; c = 100 respectively"
      ]
    },
    {
      "cell_type": "code",
      "metadata": {
        "id": "8l18D-IRYGnE",
        "colab_type": "code",
        "outputId": "47789ee6-da52-465e-8c65-17e53114f7cd",
        "colab": {
          "base_uri": "https://localhost:8080/",
          "height": 425
        }
      },
      "source": [
        "#c = 1\n",
        "def function5_c1(x1, x2):\n",
        "    return (x1-1)**2 + (x2-1)**2 + 1*(x1**2+x2**2-0.25)**2\n",
        "\n",
        "\n",
        "def df_5_c1(x1, x2):\n",
        "    dfdx1 = 2*(x1-1)+2*1*(x1**2+x2**2-0.25)*(2*x1)\n",
        "    dfdx2 = 2*(x2-1)+2*1*(x1**2+x2**2-0.25)*(2*x2)\n",
        "    return np.array([dfdx1, dfdx2])\n",
        "\n",
        "\n",
        "def ddf_5_c1(x1, x2):\n",
        "    \"\"\"Return hessian matrix.\"\"\"\n",
        "    x1x1 = 4*(x1**2+x2**2-0.25)+8*x1**2+2\n",
        "    x1x2 = 8*x1*x2\n",
        "    x2x1 = 8*x1*x2\n",
        "    x2x2 = 4*(x1**2+x2**2-0.25)+8*x2**2+2\n",
        "    return np.array([[x1x1, x1x2],\n",
        "                     [x2x1, x2x2]])\n",
        "    \n",
        "\n",
        "x_0 = np.array([1, -1])\n",
        "Newton_backtracking(function5_c1, df_5_c1, ddf_5_c1, S=2,starting_point=x_0, beta=0.5, gamma=0.25)"
      ],
      "execution_count": 7,
      "outputs": [
        {
          "output_type": "stream",
          "text": [
            "The inition point is: [ 1 -1]\n",
            "\n",
            "\n",
            "[array('ITERATION  1:   alpha = 0.125   search direction=[-0.13777778  0.58222222]     new_iterate_x=[ 0.98277778 -0.92722222]gradient:[ 6.15938753 -9.69814459]',\n",
            "      dtype='<U152'), array('ITERATION  2:   alpha = 0.125   search direction=[-0.11989278  0.58128774]     new_iterate_x=[ 0.96779118 -0.85456125]gradient:[ 5.42061517 -8.55241579]',\n",
            "      dtype='<U152'), array('ITERATION  3:   alpha = 0.125   search direction=[-0.10336557  0.58243137]     new_iterate_x=[ 0.95487048 -0.78175733]gradient:[ 4.77164421 -7.54397963]',\n",
            "      dtype='<U152'), array('ITERATION  4:   alpha = 0.125   search direction=[-0.08864456  0.58548547]     new_iterate_x=[ 0.94378991 -0.70857165]gradient:[ 4.20188206 -6.65620339]',\n",
            "      dtype='<U152'), array('ITERATION  5:   alpha = 0.125   search direction=[-0.07627529  0.5901235 ]     new_iterate_x=[ 0.9342555  -0.63480621]gradient:[ 3.70199405 -5.87438043]',\n",
            "      dtype='<U152'), array('ITERATION  6:   alpha = 0.125   search direction=[-0.06687991  0.59579887]     new_iterate_x=[ 0.92589551 -0.56033135]gradient:[ 3.26372981 -5.1854921 ]',\n",
            "      dtype='<U152'), array('ITERATION  7:   alpha = 0.125   search direction=[-0.06110519  0.60168435]     new_iterate_x=[ 0.91825737 -0.48512081]gradient:[ 2.87976212 -4.57800725]',\n",
            "      dtype='<U152'), array('ITERATION  8:   alpha = 0.25   search direction=[-0.05952802  0.60663203]     new_iterate_x=[ 0.90337536 -0.3334628 ]gradient:[ 2.25411917 -3.57032232]',\n",
            "      dtype='<U151'), array('ITERATION  9:   alpha = 0.25   search direction=[-0.07031955  0.60743495]     new_iterate_x=[ 0.88579547 -0.18160406]gradient:[ 1.78274938 -2.77553191]',\n",
            "      dtype='<U151'), array('ITERATION  10:   alpha = 0.25   search direction=[-0.09771929  0.5843854 ]     new_iterate_x=[ 0.86136565 -0.03550771]gradient:[ 1.42207336 -2.14106669]',\n",
            "      dtype='<U152')]\n",
            "....\n",
            "....\n",
            "[array('ITERATION  49:   alpha = 0.25   search direction=[-9.88207326e-06  1.01703936e-05]     new_iterate_x=[0.56409436 0.56407932]gradient:[ 2.57282965e-05 -2.75944710e-05]',\n",
            "      dtype='<U166'), array('ITERATION  50:   alpha = 0.25   search direction=[-7.41157633e-06  7.62777058e-06]     new_iterate_x=[0.56409251 0.56408123]gradient:[ 1.92962379e-05 -2.06958369e-05]',\n",
            "      dtype='<U166'), array('ITERATION  51:   alpha = 0.25   search direction=[-5.55869428e-06  5.72081410e-06]     new_iterate_x=[0.56409112 0.56408266]gradient:[ 1.44721872e-05 -1.55218684e-05]',\n",
            "      dtype='<U166'), array('ITERATION  52:   alpha = 0.25   search direction=[-4.16902748e-06  4.29060279e-06]     new_iterate_x=[0.56409008 0.56408373]gradient:[ 1.08541453e-05 -1.16413961e-05]',\n",
            "      dtype='<U166'), array('ITERATION  53:   alpha = 0.25   search direction=[-3.12677441e-06  3.21794771e-06]     new_iterate_x=[0.56408929 0.56408454]gradient:[ 8.14061171e-06 -8.73104416e-06]',\n",
            "      dtype='<U166')]\n",
            "program finished with more than 15 iteration! Total iteration number:  53\n",
            "Current Result :x_star= [0.56408929 0.56408454] gradient:  [ 8.14061171e-06 -8.73104416e-06]\n"
          ],
          "name": "stdout"
        }
      ]
    },
    {
      "cell_type": "code",
      "metadata": {
        "id": "Ro2RrLVwZHy0",
        "colab_type": "code",
        "outputId": "d6115fbc-b944-469e-ac99-a89d0a2c7dc8",
        "colab": {
          "base_uri": "https://localhost:8080/",
          "height": 425
        }
      },
      "source": [
        "#c = 10\n",
        "def function5_c10(x1, x2):\n",
        "    return (x1-1)**2 + (x2-1)**2 + 10*(x1**2+x2**2-0.25)**2\n",
        "\n",
        "\n",
        "def df_5_c10(x1, x2):\n",
        "    dfdx1 = 2*(x1-1)+2*10*(x1**2+x2**2-0.25)*(2*x1)\n",
        "    dfdx2 = 2*(x2-1)+2*10*(x1**2+x2**2-0.25)*(2*x2)\n",
        "    return np.array([dfdx1, dfdx2])\n",
        "\n",
        "def ddf_5_c10(x1, x2):\n",
        "    \"\"\"Return hessian matrix.\"\"\"\n",
        "    x1x1 = 40*(x1**2+x2**2-0.25)+80*x1**2+2\n",
        "    x1x2 = 80*x1*x2\n",
        "    x2x1 = 80*x1*x2\n",
        "    x2x2 = 40*(x1**2+x2**2-0.25)+80*x2**2+2\n",
        "    return np.array([[x1x1, x1x2],\n",
        "                     [x2x1, x2x2]])\n",
        "    \n",
        "\n",
        "x_0 = np.array([1, -1])\n",
        "Newton_backtracking(function5_c10, df_5_c10, ddf_5_c10, S=2,starting_point=x_0, beta=0.5, gamma=0.25)"
      ],
      "execution_count": 8,
      "outputs": [
        {
          "output_type": "stream",
          "text": [
            "The inition point is: [ 1 -1]\n",
            "\n",
            "\n",
            "[array('ITERATION  1:   alpha = 0.0078125   search direction=[-0.28256705  0.33812261]     new_iterate_x=[ 0.99779244 -0.99735842]gradient:[ 69.45445438 -73.42337255]',\n",
            "      dtype='<U158'), array('ITERATION  2:   alpha = 0.0078125   search direction=[-0.28162035  0.33734183]     new_iterate_x=[ 0.99559229 -0.99472293]gradient:[ 68.91315989 -72.85123847]',\n",
            "      dtype='<U158'), array('ITERATION  3:   alpha = 0.0078125   search direction=[-0.28067513  0.33656392]     new_iterate_x=[ 0.99339951 -0.99209353]gradient:[ 68.3760834  -72.28356275]',\n",
            "      dtype='<U158'), array('ITERATION  4:   alpha = 0.0078125   search direction=[-0.27973141  0.33578888]     new_iterate_x=[ 0.99121411 -0.98947018]gradient:[ 67.84319205 -71.72031065]',\n",
            "      dtype='<U158'), array('ITERATION  5:   alpha = 0.0078125   search direction=[-0.27878916  0.33501669]     new_iterate_x=[ 0.98903607 -0.98685286]gradient:[ 67.31445322 -71.16144769]',\n",
            "      dtype='<U158'), array('ITERATION  6:   alpha = 0.0078125   search direction=[-0.27784837  0.33424737]     new_iterate_x=[ 0.98686538 -0.98424155]gradient:[ 66.78983455 -70.60693968]',\n",
            "      dtype='<U158'), array('ITERATION  7:   alpha = 0.0078125   search direction=[-0.27690905  0.3334809 ]     new_iterate_x=[ 0.98470203 -0.98163623]gradient:[ 66.26930395 -70.05675269]',\n",
            "      dtype='<U158'), array('ITERATION  8:   alpha = 0.0078125   search direction=[-0.27597117  0.3327173 ]     new_iterate_x=[ 0.982546   -0.97903688]gradient:[ 65.75282954 -69.51085304]',\n",
            "      dtype='<U158'), array('ITERATION  9:   alpha = 0.0078125   search direction=[-0.27503474  0.33195655]     new_iterate_x=[ 0.98039729 -0.97644347]gradient:[ 65.24037974 -68.96920732]',\n",
            "      dtype='<U158'), array('ITERATION  10:   alpha = 0.0078125   search direction=[-0.27409974  0.33119867]     new_iterate_x=[ 0.97825589 -0.97385598]gradient:[ 64.73192318 -68.43178239]',\n",
            "      dtype='<U159')]\n",
            "....\n",
            "....\n",
            "[array('ITERATION  263:   alpha = 0.125   search direction=[-4.36944409e-06  4.09246390e-06]     new_iterate_x=[0.40261384 0.40260644]gradient:[ 2.21362734e-05 -1.46447105e-05]',\n",
            "      dtype='<U168'), array('ITERATION  264:   alpha = 0.125   search direction=[-3.82326975e-06  3.58090331e-06]     new_iterate_x=[0.40261337 0.40260689]gradient:[ 1.93692466e-05 -1.28141152e-05]',\n",
            "      dtype='<U168'), array('ITERATION  265:   alpha = 0.125   search direction=[-3.34536575e-06  3.13328840e-06]     new_iterate_x=[0.40261295 0.40260728]gradient:[ 1.69480964e-05 -1.12123459e-05]',\n",
            "      dtype='<U168'), array('ITERATION  266:   alpha = 0.125   search direction=[-2.92719865e-06  2.74162582e-06]     new_iterate_x=[0.40261258 0.40260762]gradient:[ 1.48295887e-05 -9.81079883e-06]',\n",
            "      dtype='<U168'), array('ITERATION  267:   alpha = 0.125   search direction=[-2.56130158e-06  2.39892143e-06]     new_iterate_x=[0.40261226 0.40260792]gradient:[ 1.29758934e-05 -8.58444607e-06]',\n",
            "      dtype='<U168')]\n",
            "program finished with more than 15 iteration! Total iteration number:  267\n",
            "Current Result :x_star= [0.40261226 0.40260792] gradient:  [ 1.29758934e-05 -8.58444607e-06]\n"
          ],
          "name": "stdout"
        }
      ]
    },
    {
      "cell_type": "code",
      "metadata": {
        "id": "sbWLluVTZLF-",
        "colab_type": "code",
        "outputId": "703ddea2-6a10-41d9-fc80-cde1dcd1f208",
        "colab": {
          "base_uri": "https://localhost:8080/",
          "height": 425
        }
      },
      "source": [
        "#c = 100\n",
        "def function5_c100(x1, x2):\n",
        "    return (x1-1)**2 + (x2-1)**2 + 100*(x1**2+x2**2-0.25)**2\n",
        "\n",
        "\n",
        "def df_5_c100(x1, x2):\n",
        "    dfdx1 = 2*(x1-1)+2*100*(x1**2+x2**2-0.25)*(2*x1)\n",
        "    dfdx2 = 2*(x2-1)+2*100*(x1**2+x2**2-0.25)*(2*x2)\n",
        "    return np.array([dfdx1, dfdx2])\n",
        "\n",
        "\n",
        "def ddf_5_c100(x1, x2):\n",
        "    \"\"\"Return hessian matrix.\"\"\"\n",
        "    x1x1 = 400*(x1**2+x2**2-0.25)+800*x1**2+2\n",
        "    x1x2 = 800*x1*x2\n",
        "    x2x1 = 800*x1*x2\n",
        "    x2x2 = 400*(x1**2+x2**2-0.25)+800*x2**2+2\n",
        "    return np.array([[x1x1, x1x2],\n",
        "                     [x2x1, x2x2]])\n",
        "    \n",
        "\n",
        "x_0 = np.array([1, -1])\n",
        "Newton_backtracking(function5_c100, df_5_c100, ddf_5_c100, S=2,starting_point=x_0, beta=0.8, gamma=0.05)"
      ],
      "execution_count": 9,
      "outputs": [
        {
          "output_type": "stream",
          "text": [
            "The inition point is: [ 1 -1]\n",
            "\n",
            "\n",
            "[array('ITERATION  1:   alpha = 0.0024758800785707647   search direction=[-0.30210321  0.30780122]     new_iterate_x=[ 0.99925203 -0.99923792]gradient:[ 698.26824327 -702.25835679]',\n",
            "      dtype='<U172'), array('ITERATION  2:   alpha = 0.0024758800785707647   search direction=[-0.30182552  0.30752904]     new_iterate_x=[ 0.99850474 -0.99847652]gradient:[ 696.54077068 -700.52102217]',\n",
            "      dtype='<U172'), array('ITERATION  3:   alpha = 0.0024758800785707647   search direction=[-0.30154803  0.30725708]     new_iterate_x=[ 0.99775815 -0.99771578]gradient:[ 694.81757163 -698.78798549]',\n",
            "      dtype='<U172'), array('ITERATION  4:   alpha = 0.0024758800785707647   search direction=[-0.30127074  0.30698534]     new_iterate_x=[ 0.99701224 -0.99695573]gradient:[ 693.09863554 -697.05923612]',\n",
            "      dtype='<U172'), array('ITERATION  5:   alpha = 0.0024758800785707647   search direction=[-0.30099365  0.30671381]     new_iterate_x=[ 0.99626701 -0.99619634]gradient:[ 691.38395187 -695.33476344]',\n",
            "      dtype='<U172'), array('ITERATION  6:   alpha = 0.0024758800785707647   search direction=[-0.30071676  0.3064425 ]     new_iterate_x=[ 0.99552248 -0.99543762]gradient:[ 689.67351009 -693.61455687]',\n",
            "      dtype='<U172'), array('ITERATION  7:   alpha = 0.0024758800785707647   search direction=[-0.30044007  0.3061714 ]     new_iterate_x=[ 0.99477862 -0.99467958]gradient:[ 687.96729973 -691.89860587]',\n",
            "      dtype='<U172'), array('ITERATION  8:   alpha = 0.0024758800785707647   search direction=[-0.30016358  0.30590052]     new_iterate_x=[ 0.99403545 -0.99392221]gradient:[ 686.26531029 -690.18689991]',\n",
            "      dtype='<U172'), array('ITERATION  9:   alpha = 0.0024758800785707647   search direction=[-0.29988729  0.30562985]     new_iterate_x=[ 0.99329297 -0.9931655 ]gradient:[ 684.56753136 -688.47942848]',\n",
            "      dtype='<U172'), array('ITERATION  10:   alpha = 0.0024758800785707647   search direction=[-0.29961121  0.30535939]     new_iterate_x=[ 0.99255117 -0.99240947]gradient:[ 682.8739525  -686.77618111]',\n",
            "      dtype='<U173')]\n",
            "....\n",
            "....\n",
            "[array('ITERATION  996:   alpha = 0.045035996273705005   search direction=[-0.00023854  0.00023394]     new_iterate_x=[0.36001746 0.35956614]gradient:[ 0.00175199 -0.00075743]',\n",
            "      dtype='<U167'), array('ITERATION  997:   alpha = 0.056294995342131254   search direction=[-0.00022781  0.00022341]     new_iterate_x=[0.36000464 0.35957872]gradient:[ 0.00165341 -0.00071474]',\n",
            "      dtype='<U167'), array('ITERATION  998:   alpha = 0.045035996273705005   search direction=[-0.000215    0.00021083]     new_iterate_x=[0.35999495 0.35958821]gradient:[ 0.00157897 -0.00068253]',\n",
            "      dtype='<U167'), array('ITERATION  999:   alpha = 0.045035996273705005   search direction=[-0.00020532  0.00020133]     new_iterate_x=[0.35998571 0.35959728]gradient:[ 0.00150789 -0.00065177]',\n",
            "      dtype='<U167'), array('ITERATION  1000:   alpha = 0.056294995342131254   search direction=[-0.00019608  0.00019226]     new_iterate_x=[0.35997467 0.3596081 ]gradient:[ 0.00142304 -0.00061504]',\n",
            "      dtype='<U168')]\n",
            "!!!!!!!!!!!!Hitting the maximum iteration number(1000), program stopped!!!!!!!!!!!!!!!\n",
            "Current Result :x_star= [0.35997467 0.3596081 ] gradient:  [ 0.00142304 -0.00061504]\n"
          ],
          "name": "stdout"
        }
      ]
    },
    {
      "cell_type": "markdown",
      "metadata": {
        "id": "u1tZ4FF4avDl",
        "colab_type": "text"
      },
      "source": [
        "with C getting bigger and bigger, the programm will take more iterations to achieve the optimal point."
      ]
    }
  ]
}